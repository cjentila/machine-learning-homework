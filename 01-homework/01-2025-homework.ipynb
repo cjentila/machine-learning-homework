{
 "cells": [
  {
   "cell_type": "code",
   "execution_count": 1,
   "id": "3efc5707-9f1a-4bb2-af2d-8e80bb2e6dfb",
   "metadata": {},
   "outputs": [],
   "source": [
    "import pandas as pd\n",
    "import numpy as np"
   ]
  },
  {
   "cell_type": "markdown",
   "id": "6366c21b-1a3e-4f4b-bfda-4b3bf6205710",
   "metadata": {},
   "source": [
    "# Q1. Pandas version"
   ]
  },
  {
   "cell_type": "code",
   "execution_count": 2,
   "id": "44941f9e-fe39-4b4c-9816-ed223dbd8c6f",
   "metadata": {},
   "outputs": [
    {
     "data": {
      "text/plain": [
       "'2.3.1'"
      ]
     },
     "execution_count": 2,
     "metadata": {},
     "output_type": "execute_result"
    }
   ],
   "source": [
    "pd.__version__"
   ]
  },
  {
   "cell_type": "code",
   "execution_count": 18,
   "id": "e8081763-7df8-4445-990c-c0e3008a6a5d",
   "metadata": {},
   "outputs": [
    {
     "name": "stdout",
     "output_type": "stream",
     "text": [
      "<class 'pandas.core.frame.DataFrame'>\n",
      "RangeIndex: 9704 entries, 0 to 9703\n",
      "Data columns (total 11 columns):\n",
      " #   Column               Non-Null Count  Dtype  \n",
      "---  ------               --------------  -----  \n",
      " 0   engine_displacement  9704 non-null   int64  \n",
      " 1   num_cylinders        9222 non-null   float64\n",
      " 2   horsepower           8996 non-null   float64\n",
      " 3   vehicle_weight       9704 non-null   float64\n",
      " 4   acceleration         8774 non-null   float64\n",
      " 5   model_year           9704 non-null   int64  \n",
      " 6   origin               9704 non-null   object \n",
      " 7   fuel_type            9704 non-null   object \n",
      " 8   drivetrain           9704 non-null   object \n",
      " 9   num_doors            9202 non-null   float64\n",
      " 10  fuel_efficiency_mpg  9704 non-null   float64\n",
      "dtypes: float64(6), int64(2), object(3)\n",
      "memory usage: 834.1+ KB\n"
     ]
    },
    {
     "data": {
      "text/html": [
       "<div>\n",
       "<style scoped>\n",
       "    .dataframe tbody tr th:only-of-type {\n",
       "        vertical-align: middle;\n",
       "    }\n",
       "\n",
       "    .dataframe tbody tr th {\n",
       "        vertical-align: top;\n",
       "    }\n",
       "\n",
       "    .dataframe thead th {\n",
       "        text-align: right;\n",
       "    }\n",
       "</style>\n",
       "<table border=\"1\" class=\"dataframe\">\n",
       "  <thead>\n",
       "    <tr style=\"text-align: right;\">\n",
       "      <th></th>\n",
       "      <th>engine_displacement</th>\n",
       "      <th>num_cylinders</th>\n",
       "      <th>horsepower</th>\n",
       "      <th>vehicle_weight</th>\n",
       "      <th>acceleration</th>\n",
       "      <th>model_year</th>\n",
       "      <th>origin</th>\n",
       "      <th>fuel_type</th>\n",
       "      <th>drivetrain</th>\n",
       "      <th>num_doors</th>\n",
       "      <th>fuel_efficiency_mpg</th>\n",
       "    </tr>\n",
       "  </thead>\n",
       "  <tbody>\n",
       "    <tr>\n",
       "      <th>0</th>\n",
       "      <td>170</td>\n",
       "      <td>3.0</td>\n",
       "      <td>159.0</td>\n",
       "      <td>3413.433759</td>\n",
       "      <td>17.7</td>\n",
       "      <td>2003</td>\n",
       "      <td>Europe</td>\n",
       "      <td>Gasoline</td>\n",
       "      <td>All-wheel drive</td>\n",
       "      <td>0.0</td>\n",
       "      <td>13.231729</td>\n",
       "    </tr>\n",
       "    <tr>\n",
       "      <th>1</th>\n",
       "      <td>130</td>\n",
       "      <td>5.0</td>\n",
       "      <td>97.0</td>\n",
       "      <td>3149.664934</td>\n",
       "      <td>17.8</td>\n",
       "      <td>2007</td>\n",
       "      <td>USA</td>\n",
       "      <td>Gasoline</td>\n",
       "      <td>Front-wheel drive</td>\n",
       "      <td>0.0</td>\n",
       "      <td>13.688217</td>\n",
       "    </tr>\n",
       "    <tr>\n",
       "      <th>2</th>\n",
       "      <td>170</td>\n",
       "      <td>NaN</td>\n",
       "      <td>78.0</td>\n",
       "      <td>3079.038997</td>\n",
       "      <td>15.1</td>\n",
       "      <td>2018</td>\n",
       "      <td>Europe</td>\n",
       "      <td>Gasoline</td>\n",
       "      <td>Front-wheel drive</td>\n",
       "      <td>0.0</td>\n",
       "      <td>14.246341</td>\n",
       "    </tr>\n",
       "    <tr>\n",
       "      <th>3</th>\n",
       "      <td>220</td>\n",
       "      <td>4.0</td>\n",
       "      <td>NaN</td>\n",
       "      <td>2542.392402</td>\n",
       "      <td>20.2</td>\n",
       "      <td>2009</td>\n",
       "      <td>USA</td>\n",
       "      <td>Diesel</td>\n",
       "      <td>All-wheel drive</td>\n",
       "      <td>2.0</td>\n",
       "      <td>16.912736</td>\n",
       "    </tr>\n",
       "    <tr>\n",
       "      <th>4</th>\n",
       "      <td>210</td>\n",
       "      <td>1.0</td>\n",
       "      <td>140.0</td>\n",
       "      <td>3460.870990</td>\n",
       "      <td>14.4</td>\n",
       "      <td>2009</td>\n",
       "      <td>Europe</td>\n",
       "      <td>Gasoline</td>\n",
       "      <td>All-wheel drive</td>\n",
       "      <td>2.0</td>\n",
       "      <td>12.488369</td>\n",
       "    </tr>\n",
       "  </tbody>\n",
       "</table>\n",
       "</div>"
      ],
      "text/plain": [
       "   engine_displacement  num_cylinders  horsepower  vehicle_weight  \\\n",
       "0                  170            3.0       159.0     3413.433759   \n",
       "1                  130            5.0        97.0     3149.664934   \n",
       "2                  170            NaN        78.0     3079.038997   \n",
       "3                  220            4.0         NaN     2542.392402   \n",
       "4                  210            1.0       140.0     3460.870990   \n",
       "\n",
       "   acceleration  model_year  origin fuel_type         drivetrain  num_doors  \\\n",
       "0          17.7        2003  Europe  Gasoline    All-wheel drive        0.0   \n",
       "1          17.8        2007     USA  Gasoline  Front-wheel drive        0.0   \n",
       "2          15.1        2018  Europe  Gasoline  Front-wheel drive        0.0   \n",
       "3          20.2        2009     USA    Diesel    All-wheel drive        2.0   \n",
       "4          14.4        2009  Europe  Gasoline    All-wheel drive        2.0   \n",
       "\n",
       "   fuel_efficiency_mpg  \n",
       "0            13.231729  \n",
       "1            13.688217  \n",
       "2            14.246341  \n",
       "3            16.912736  \n",
       "4            12.488369  "
      ]
     },
     "execution_count": 18,
     "metadata": {},
     "output_type": "execute_result"
    }
   ],
   "source": [
    "df = pd.read_csv('https://raw.githubusercontent.com/alexeygrigorev/datasets/master/car_fuel_efficiency.csv')\n",
    "df.info()\n",
    "df.head()"
   ]
  },
  {
   "cell_type": "markdown",
   "id": "493f5058-5936-473e-8a91-55f1343f1ae5",
   "metadata": {},
   "source": [
    "# Q2. Records count\n",
    "\n",
    "### A: 9704"
   ]
  },
  {
   "cell_type": "code",
   "execution_count": 5,
   "id": "65424350-8d8a-4e35-a2de-b920aaef8fa3",
   "metadata": {},
   "outputs": [
    {
     "data": {
      "text/plain": [
       "9704"
      ]
     },
     "execution_count": 5,
     "metadata": {},
     "output_type": "execute_result"
    }
   ],
   "source": [
    "df.shape[0] # Gets the number of rows"
   ]
  },
  {
   "cell_type": "markdown",
   "id": "6265051d-1b5c-4e7f-bd34-7ac5ffd507a4",
   "metadata": {},
   "source": [
    "# Q3. Fuel Types\n",
    "\n",
    "### A: 2"
   ]
  },
  {
   "cell_type": "code",
   "execution_count": 10,
   "id": "0c169bea-f706-4b9e-ab80-4ddc859cad86",
   "metadata": {},
   "outputs": [
    {
     "data": {
      "text/plain": [
       "2"
      ]
     },
     "execution_count": 10,
     "metadata": {},
     "output_type": "execute_result"
    }
   ],
   "source": [
    "# df['fuel_type'].unique().size\n",
    "# OR\n",
    "df['fuel_type'].nunique()"
   ]
  },
  {
   "cell_type": "markdown",
   "id": "7fa16d66-e660-47b0-9686-62198bbddbe8",
   "metadata": {},
   "source": [
    "# Q4. Missing values\n",
    "\n",
    "### A: 4"
   ]
  },
  {
   "cell_type": "code",
   "execution_count": 14,
   "id": "a8df738f-3b6d-42d8-8f73-90d51caaf6d7",
   "metadata": {},
   "outputs": [
    {
     "data": {
      "text/plain": [
       "4"
      ]
     },
     "execution_count": 14,
     "metadata": {},
     "output_type": "execute_result"
    }
   ],
   "source": [
    "sum(df.isna().sum() > 0)"
   ]
  },
  {
   "cell_type": "markdown",
   "id": "483edd76-c096-4676-9313-086b5e3fe418",
   "metadata": {},
   "source": [
    "# Q5. Max fuel efficiency\n",
    "\n",
    "### A: 23.75"
   ]
  },
  {
   "cell_type": "code",
   "execution_count": 22,
   "id": "d70ebd5d-ccf6-46fa-a2c8-4950865fd2cf",
   "metadata": {},
   "outputs": [
    {
     "data": {
      "text/plain": [
       "np.float64(23.759122836520497)"
      ]
     },
     "execution_count": 22,
     "metadata": {},
     "output_type": "execute_result"
    }
   ],
   "source": [
    "df[df['origin'] == 'Asia']['fuel_efficiency_mpg'].max()"
   ]
  },
  {
   "cell_type": "markdown",
   "id": "321e4422-382a-44d5-805d-744babe3dd69",
   "metadata": {},
   "source": [
    "# Q6. Median value of horsepower\n",
    "\n",
    "### A: Yes it increased"
   ]
  },
  {
   "cell_type": "code",
   "execution_count": 23,
   "id": "1f9bf114-b969-4bf4-9966-965d82fec41b",
   "metadata": {},
   "outputs": [
    {
     "data": {
      "text/plain": [
       "np.float64(149.0)"
      ]
     },
     "execution_count": 23,
     "metadata": {},
     "output_type": "execute_result"
    }
   ],
   "source": [
    "df['horsepower'].median()"
   ]
  },
  {
   "cell_type": "code",
   "execution_count": 26,
   "id": "839bbb60-b571-40b5-ae09-a687346010e3",
   "metadata": {},
   "outputs": [
    {
     "data": {
      "text/plain": [
       "np.float64(152.0)"
      ]
     },
     "execution_count": 26,
     "metadata": {},
     "output_type": "execute_result"
    }
   ],
   "source": [
    "df['horsepower'].mode()[0]"
   ]
  },
  {
   "cell_type": "code",
   "execution_count": 28,
   "id": "2ab85a01-a2c9-4b38-a0b1-28807426d4e9",
   "metadata": {},
   "outputs": [
    {
     "data": {
      "text/plain": [
       "np.float64(152.0)"
      ]
     },
     "execution_count": 28,
     "metadata": {},
     "output_type": "execute_result"
    }
   ],
   "source": [
    "mode = df['horsepower'].mode()[0]\n",
    "df_horsepower_filled = df.copy()\n",
    "df_horsepower_filled['horsepower'] = df['horsepower'].fillna(mode)\n",
    "df_horsepower_filled['horsepower'].median()"
   ]
  },
  {
   "cell_type": "markdown",
   "id": "d98f3c96-ca80-444b-8f25-fef443433d18",
   "metadata": {},
   "source": [
    "# Q7. Sum of Weights"
   ]
  },
  {
   "cell_type": "code",
   "execution_count": 46,
   "id": "bb691369-e314-4a74-8f1a-49d4cf3f38a1",
   "metadata": {
    "scrolled": true
   },
   "outputs": [
    {
     "data": {
      "text/plain": [
       "np.float64(0.5187709081074016)"
      ]
     },
     "execution_count": 46,
     "metadata": {},
     "output_type": "execute_result"
    }
   ],
   "source": [
    "# 1\n",
    "df_cars_from_asia = df[df['origin'] == 'Asia']\n",
    "\n",
    "# 2\n",
    "df_cars_filtered_columns = df_cars_from_asia[['vehicle_weight','model_year']]\n",
    "\n",
    "# 3\n",
    "df_cars_filtered_columns = df_cars_filtered_columns.head(7)\n",
    "\n",
    "# 4\n",
    "x = df_cars_filtered_columns.values\n",
    "\n",
    "# 5\n",
    "xtx = x.T.dot(x)\n",
    "\n",
    "# 6\n",
    "xtx_inv = np.linalg.inv(xtx)\n",
    "\n",
    "# 7\n",
    "y = [1100, 1300, 800, 900, 1000, 1100, 1200]\n",
    "\n",
    "# 8\n",
    "xtx_inv_dot_x_transpose = xtx_inv.dot(x.T)\n",
    "w = xtx_inv_dot_x_transpose.dot(y) \n",
    "\n",
    "# Answer: 0.51\n",
    "sum(w)\n",
    "\n",
    "\n",
    "### For experiments how .eye works \n",
    "# identity_computed = xtx_inv.dot(xtx)\n",
    "# identity_expected = np.eye(xtx.shape[0])\n",
    "\n",
    "# help(np.allclose)\n",
    "# np.allclose(identity_computed, identity_expected)  # Should print: True\n"
   ]
  }
 ],
 "metadata": {
  "kernelspec": {
   "display_name": "Python 3 (ipykernel)",
   "language": "python",
   "name": "python3"
  },
  "language_info": {
   "codemirror_mode": {
    "name": "ipython",
    "version": 3
   },
   "file_extension": ".py",
   "mimetype": "text/x-python",
   "name": "python",
   "nbconvert_exporter": "python",
   "pygments_lexer": "ipython3",
   "version": "3.12.1"
  }
 },
 "nbformat": 4,
 "nbformat_minor": 5
}
